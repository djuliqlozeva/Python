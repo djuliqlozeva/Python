{
  "nbformat": 4,
  "nbformat_minor": 0,
  "metadata": {
    "colab": {
      "provenance": [],
      "toc_visible": true,
      "authorship_tag": "ABX9TyOyDcFfcsZOthroJaPCU7/F",
      "include_colab_link": true
    },
    "kernelspec": {
      "name": "python3",
      "display_name": "Python 3"
    },
    "language_info": {
      "name": "python"
    }
  },
  "cells": [
    {
      "cell_type": "markdown",
      "metadata": {
        "id": "view-in-github",
        "colab_type": "text"
      },
      "source": [
        "<a href=\"https://colab.research.google.com/github/djuliqlozeva/Python/blob/main/SecondExercisePython.ipynb\" target=\"_parent\"><img src=\"https://colab.research.google.com/assets/colab-badge.svg\" alt=\"Open In Colab\"/></a>"
      ]
    },
    {
      "cell_type": "code",
      "execution_count": null,
      "metadata": {
        "id": "TRB93HtUnZiJ"
      },
      "outputs": [],
      "source": [
        "time1 = int(input(\"Време на първия състезател (в секунди): \"))\n",
        "time2 = int(input(\"Време на втория състезател (в секунди): \"))\n",
        "time3 = int(input(\"Време на третия състезател (в секунди): \"))\n",
        "\n",
        "total_time = time1 + time2 + time3\n",
        "\n",
        "minutes = total_time // 60\n",
        "seconds = total_time % 60\n",
        "\n",
        "if seconds < 10:\n",
        "    print(f\"Сумарно време: {minutes}:0{seconds}\")\n",
        "else:\n",
        "    print(f\"Сумарно време: {minutes}:{seconds}\")\n"
      ]
    },
    {
      "cell_type": "code",
      "source": [
        "for i in range(10):\n",
        "  print (i)\n",
        "\n",
        "print (\"от 1 до 19\")\n",
        "for i in range (1,20):\n",
        "  print (i,end=';')\n",
        "\n",
        "print()\n",
        "\n",
        "print(\"от 1 до 19 през 2\")\n",
        "for i in range (1,20,2):\n",
        "  print (i,end=';')\n",
        "\n",
        "print(\"от 20 до 2 през 1\")\n",
        "for i in range (20,1,-7):\n",
        "  print (i,end=';')\n",
        "\n",
        "print(\"от 20 до 2 през 2\")\n",
        "for i in range (20,1,-2):\n",
        "  print (i,end=';')\n",
        "\n",
        "print(\"от 1 до 100 завършващи на седем\")\n",
        "for i in range (1,101):\n",
        "  if i%10==7:\n",
        "    print(i,end=';')\n",
        "\n",
        "print()\n",
        "import itertools as it\n",
        "for i,x in it.zip_longest(range(1,10),range(10,1,-1)):\n",
        "    print(i,x)"
      ],
      "metadata": {
        "id": "swdO7k9AoEej"
      },
      "execution_count": null,
      "outputs": []
    },
    {
      "cell_type": "code",
      "source": [
        "#Сумата на числа от 1-100\n",
        "sum=0\n",
        "\n",
        "for i in range (1,101):\n",
        "  sum=sum+i\n",
        "print(\"Sum is:\",sum)\n",
        "\n"
      ],
      "metadata": {
        "id": "Eh2XRKbaoioj"
      },
      "execution_count": null,
      "outputs": []
    },
    {
      "cell_type": "code",
      "source": [
        "#Сумата на четни числа от 1-100\n",
        "sum_2=0\n",
        "\n",
        "for i in range (1,101):\n",
        "  if i%2==0:\n",
        "    sum_2=sum_2+1\n",
        "print(\"Sum is:\",sum_2)"
      ],
      "metadata": {
        "id": "4fTggEU_oz37"
      },
      "execution_count": null,
      "outputs": []
    },
    {
      "cell_type": "code",
      "source": [
        "#Сумата на четните i нечетните числа от 1-100\n",
        "sum_3=0\n",
        "sum_4=0\n",
        "\n",
        "for i in range(1,101):\n",
        "  if i%2==0:\n",
        "    sum_3=sum_3+1\n",
        "  else:\n",
        "    sum_4=sum_4+1\n",
        "\n",
        "print(\"Sum is:\",sum_3)\n",
        "print(\"Sum is:\",sum_4)"
      ],
      "metadata": {
        "id": "8NJ-t-CBoxyt"
      },
      "execution_count": null,
      "outputs": []
    },
    {
      "cell_type": "code",
      "source": [
        "#Сумата на числата в диапазноа\n",
        "sum=0\n",
        "n1=int(input('Enter first number:'))\n",
        "n2=int(input('Enter second number:'))\n",
        "for i in range(n1,n2):\n",
        "  sum=sum+i\n",
        "  print(i,end=';')\n",
        "\n",
        "print()\n",
        "\n",
        "print(\"Sum is:\",sum)"
      ],
      "metadata": {
        "id": "dKA6-IPYoy29"
      },
      "execution_count": null,
      "outputs": []
    },
    {
      "cell_type": "code",
      "source": [
        "#using While Loop\n",
        "print(\"***************\")\n",
        "j=n1\n",
        "sum_5=0\n",
        "while j>n2:\n",
        "  sum_5+=j\n",
        "  print(j,end=',')\n",
        "  j+1\n",
        "\n",
        "print()\n",
        "\n",
        "print(\"Sum is:\",sum_5)"
      ],
      "metadata": {
        "id": "Vb3b2B-BpMwP"
      },
      "execution_count": null,
      "outputs": []
    },
    {
      "cell_type": "code",
      "source": [
        "#Да се введе цяло число в диапазона (1 - 100]. дко то е невалидно, да се въведе\n",
        "#отново. В случая, за невалидно число це считаме всяко та кова, което не е в\n",
        "# зададения диапазон.\n",
        "num=int(input('Enter number 1-100:'))\n",
        "while num<1 or num>100:\n",
        "  print('Invalid Number-Try Again')\n",
        "  num=int(input('Enter number 1-100:'))\n",
        "  \n",
        "print(\"The number is: %d\"%(num))"
      ],
      "metadata": {
        "id": "3EqAWGwopRGP"
      },
      "execution_count": null,
      "outputs": []
    },
    {
      "cell_type": "code",
      "source": [
        "n=int(input())\n",
        "for row in range(1, n+1):\n",
        "  print(\"*\", end=\"\")\n",
        "  for col in  range (1,n):\n",
        "    print(\"*\", end=\"\")\n",
        "  print()"
      ],
      "metadata": {
        "id": "9GMNL6RrpUkG"
      },
      "execution_count": null,
      "outputs": []
    },
    {
      "cell_type": "code",
      "source": [
        "n=int(input())\n",
        "for row in range(n):\n",
        "  print(\"$\", end=\"\")\n",
        "  for col in  range (row):\n",
        "    print(\"$\", end=\"\")\n",
        "  print()"
      ],
      "metadata": {
        "id": "P-x1gwwnpYNw"
      },
      "execution_count": null,
      "outputs": []
    }
  ]
}