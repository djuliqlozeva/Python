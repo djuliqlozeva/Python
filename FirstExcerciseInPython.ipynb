{
  "nbformat": 4,
  "nbformat_minor": 0,
  "metadata": {
    "colab": {
      "provenance": [],
      "authorship_tag": "ABX9TyMJhUp2ChZknx1tYcjdHn1b",
      "include_colab_link": true
    },
    "kernelspec": {
      "name": "python3",
      "display_name": "Python 3"
    },
    "language_info": {
      "name": "python"
    }
  },
  "cells": [
    {
      "cell_type": "markdown",
      "metadata": {
        "id": "view-in-github",
        "colab_type": "text"
      },
      "source": [
        "<a href=\"https://colab.research.google.com/github/djuliqlozeva/hello-world/blob/main/FirstExcerciseInPython.ipynb\" target=\"_parent\"><img src=\"https://colab.research.google.com/assets/colab-badge.svg\" alt=\"Open In Colab\"/></a>"
      ]
    },
    {
      "cell_type": "code",
      "execution_count": 49,
      "metadata": {
        "id": "CLUGOMcCxJfV",
        "colab": {
          "base_uri": "https://localhost:8080/"
        },
        "outputId": "e0a5adb0-aca9-445f-c939-3d8a3df9cf99"
      },
      "outputs": [
        {
          "output_type": "stream",
          "name": "stdout",
          "text": [
            "4\n",
            "6\n",
            "Area of .... 24.00 square meters\n"
          ]
        }
      ],
      "source": [
        "side_a = int(input())\n",
        "side_b = int(input())\n",
        "area = side_a * side_b\n",
        "print(f\"Area of ....{area: .2f} square meters\")"
      ]
    },
    {
      "cell_type": "code",
      "source": [
        "grade = float(input())\n",
        "if(grade >= 5.50):\n",
        "  print(\"Excellent!\")\n",
        "else:\n",
        "  print()"
      ],
      "metadata": {
        "id": "00RFw1x50GZH",
        "colab": {
          "base_uri": "https://localhost:8080/"
        },
        "outputId": "b24981e1-5f74-47ef-d9a1-92594419f249"
      },
      "execution_count": 48,
      "outputs": [
        {
          "output_type": "stream",
          "name": "stdout",
          "text": [
            "5.50\n",
            "Excellent!\n"
          ]
        }
      ]
    },
    {
      "cell_type": "code",
      "source": [
        "number1 = float(input())\n",
        "number2 = float(input())\n",
        "\n",
        "if(number1 > number2):\n",
        "  print(number1)\n",
        "else:\n",
        "  print(number2)"
      ],
      "metadata": {
        "id": "uzfBpLcE75G2",
        "colab": {
          "base_uri": "https://localhost:8080/"
        },
        "outputId": "e0bb20cb-d03b-4e29-8189-f6dd47cfd475"
      },
      "execution_count": 47,
      "outputs": [
        {
          "output_type": "stream",
          "name": "stdout",
          "text": [
            "5\n",
            "4\n",
            "5.0\n"
          ]
        }
      ]
    },
    {
      "cell_type": "code",
      "source": [
        "number = int(input())\n",
        "if(number%2==0):\n",
        "  print(\"even\")\n",
        "else:\n",
        "  print(\"odd\")"
      ],
      "metadata": {
        "colab": {
          "base_uri": "https://localhost:8080/"
        },
        "id": "9HKWxh-e8T3d",
        "outputId": "73a33b33-fd4d-45b1-c551-aa8866f4d0ad"
      },
      "execution_count": 43,
      "outputs": [
        {
          "output_type": "stream",
          "name": "stdout",
          "text": [
            "4\n",
            "even\n"
          ]
        }
      ]
    },
    {
      "cell_type": "code",
      "source": [
        "figure = input()\n",
        "if(figure == \"circle\"):\n",
        "  r = float(input())\n",
        "  area = math.pi * r ** 2\n",
        "elif(figure==\"square\"):\n",
        "  side = float(input())\n",
        "  area = side ** 2\n",
        "elif(figure == \"rectangle\"):\n",
        "  side_a = float(input())\n",
        "  side_b = float(input())\n",
        "  area = side_a * side_b\n",
        "elif(figure == \"triangle\"):\n",
        "  height = float(input())\n",
        "  side_a = float(input())\n",
        "  area = (height * side_a) / 2\n",
        "else:\n",
        "  print(\"Invalid figure\")\n",
        "\n",
        "print(f\" The rea of {figure} is {area: .3f}\")\n"
      ],
      "metadata": {
        "colab": {
          "base_uri": "https://localhost:8080/"
        },
        "id": "PZNI6wLU9OoR",
        "outputId": "90f874a1-9f23-4632-ada3-0513543631d2"
      },
      "execution_count": 42,
      "outputs": [
        {
          "output_type": "stream",
          "name": "stdout",
          "text": [
            "square\n",
            "5\n",
            " The rea of square is  25.000\n"
          ]
        }
      ]
    },
    {
      "cell_type": "code",
      "source": [
        "x=20\n",
        "y=30\n",
        "print(x, y)\n",
        "x, y = y, x\n",
        "print(x, y)\n",
        "\n",
        "#case 2\n",
        "temp = x\n",
        "x=y\n",
        "y=temp\n",
        "print(x,y)\n",
        "#case 3\n",
        "sum = x+y\n",
        "x= sum-x\n",
        "y = sum-x\n",
        "print(x, y)"
      ],
      "metadata": {
        "colab": {
          "base_uri": "https://localhost:8080/"
        },
        "id": "VYG4esu1bVXA",
        "outputId": "5b714610-3b19-444f-e969-7011fb874272"
      },
      "execution_count": 41,
      "outputs": [
        {
          "output_type": "stream",
          "name": "stdout",
          "text": [
            "20 30\n",
            "30 20\n",
            "20 30\n",
            "30 20\n"
          ]
        }
      ]
    },
    {
      "cell_type": "code",
      "source": [
        "# *****************Особени оператори и резултати\n",
        "\n",
        "print(10.0/2.5)\n",
        "#print(10/0)\n",
        "print(3**3)\n",
        "print(23%4)\n",
        "print(24%4)\n",
        "print(26//10)\n",
        "\n",
        "\n",
        "import math\n",
        "\n",
        "print(math.ceil(26/10))\n",
        "print(math.floor(26/10))\n",
        "print(math.pi)\n",
        "print(math.pi*5*5)  # radius = 5 na okrajnost - count area\n",
        "\n",
        "print(bool(False))\n",
        "print('aw' in 'Ivan')\n",
        "\n",
        "a = \"w\"\n",
        "b= \"w\"\n",
        "print(a is b)"
      ],
      "metadata": {
        "colab": {
          "base_uri": "https://localhost:8080/"
        },
        "id": "66CPR5TBcwbY",
        "outputId": "9614886e-80b8-4ea6-f367-d8b722180660"
      },
      "execution_count": 40,
      "outputs": [
        {
          "output_type": "stream",
          "name": "stdout",
          "text": [
            "4.0\n",
            "27\n",
            "3\n",
            "0\n",
            "2\n",
            "3\n",
            "2\n",
            "3.141592653589793\n",
            "78.53981633974483\n",
            "False\n",
            "False\n",
            "True\n"
          ]
        }
      ]
    },
    {
      "cell_type": "code",
      "source": [
        "# ******конкатенация на число със стринг\n",
        "\n",
        "a = 2\n",
        "b=5\n",
        "text= \"Chislata sa \"+str(a) +str(b)\n",
        "print(text)\n",
        "text= \"Chislata sa \"+str(a+b)\n",
        "print(text)\n",
        "\n",
        "x= input(\"Enter X\")\n",
        "#x=int(x)\n",
        "print(x * 5)\n"
      ],
      "metadata": {
        "colab": {
          "base_uri": "https://localhost:8080/"
        },
        "id": "SaSQ36GYeIyM",
        "outputId": "a51945a8-0e86-4ee0-8790-8d61d1309c30"
      },
      "execution_count": 39,
      "outputs": [
        {
          "output_type": "stream",
          "name": "stdout",
          "text": [
            "Chislata sa 25\n",
            "Chislata sa 7\n",
            "Enter X2\n",
            "22222\n"
          ]
        }
      ]
    },
    {
      "cell_type": "code",
      "source": [
        "# ***********Задача: бонус точки\n",
        "# Дадено е цяло число – брой точки. Върху него се начисляват бонус точки по\n",
        "# правилата, описани по-долу. Да се напише програма, която пресмята бонус\n",
        "# точките за това число и общия брой точки с бонусите.\n",
        "# • Ако числото е до 100 включително, бонус точките са 5.\n",
        "# • Ако числото е по-голямо от 100, бонус точките са 20% от числото.\n",
        "# • Ако числото е по-голямо от 1000, бонус точките са 10% от числото.\n",
        "# • Допълнителни бонус точки (начисляват се отделно от предходните):\n",
        "#    o За четно число -> + 5 т.\n",
        "#    o За число, което завършва на 5 -> + 5 т.\n",
        "\n",
        "number = int(input(\"enter number 1 to 2000\\n\"))\n",
        "bonus=0\n",
        "if number<=100:\n",
        "  bonus = bonus+5\n",
        "elif number>100 and number<=1000:\n",
        "  bonus+= number*(20/100)\n",
        "else:\n",
        "  bonus+= number*(10/100)\n",
        "if number%2==0:\n",
        "  bonus+=5\n",
        "if number%10==5:\n",
        "  bonus+=5\n",
        "print('Bonus is', bonus)"
      ],
      "metadata": {
        "colab": {
          "base_uri": "https://localhost:8080/"
        },
        "id": "05Pye3H2faEk",
        "outputId": "42efa5d3-0e86-482f-e3dc-1b2dc2612e76"
      },
      "execution_count": 38,
      "outputs": [
        {
          "output_type": "stream",
          "name": "stdout",
          "text": [
            "enter number 1 to 2000\n",
            "15\n",
            "Bonus is 10\n"
          ]
        }
      ]
    },
    {
      "cell_type": "code",
      "source": [
        "print('Hello')\n",
        "name = 'Ivan Ivanov'\n",
        "age = 60.5\n",
        "city = 'Sofia'\n",
        "\n",
        "print(\"You are\", name, \"and your age is\",age,'and you are from', city)\n",
        "print('You are {} and your age is {:.2f} and you are from {}'.format(name, age, city))\n",
        "print('You are {0} and your age is {1:.3f} and you are from {2}'.format(name, age, city))\n",
        "print('You are {name} and your age is {age} and you are from {city}'.format(name=\"VT\", age=62, city='Kazanlak'))\n",
        "print(f'You are {name} and your age is {age} and you are from {city}')\n",
        "print('You are %s and your age is %.2f and you are from %s'%(name, age, city))"
      ],
      "metadata": {
        "colab": {
          "base_uri": "https://localhost:8080/"
        },
        "id": "7OSITr0Kn2Og",
        "outputId": "3b74c3d2-8fb9-4181-9a29-17d83dfcc9f9"
      },
      "execution_count": 37,
      "outputs": [
        {
          "output_type": "stream",
          "name": "stdout",
          "text": [
            "Hello\n",
            "You are Ivan Ivanov and your age is 60.5 and you are from Sofia\n",
            "You are Ivan Ivanov and your age is 60.50 and you are from Sofia\n",
            "You are Ivan Ivanov and your age is 60.500 and you are from Sofia\n",
            "You are VT and your age is 62 and you are from Kazanlak\n",
            "You are Ivan Ivanov and your age is 60.5 and you are from Sofia\n",
            "You are Ivan Ivanov and your age is 60.50 and you are from Sofia\n"
          ]
        }
      ]
    },
    {
      "cell_type": "code",
      "source": [
        "name = \"VT\"\n",
        "name = 10\n",
        "name=22.2\n",
        "print(name)\n",
        "\n",
        "x=2\n",
        "y= 5\n",
        "if x>y:\n",
        "  print(\"X is bigger\")\n",
        "  if x==7:\n",
        "    print('X=',x)\n",
        "  else:\n",
        "    print(\"X=\", x)\n",
        "else:\n",
        "  print(\"Y is bigger\")"
      ],
      "metadata": {
        "colab": {
          "base_uri": "https://localhost:8080/"
        },
        "id": "aDMP27VBn22G",
        "outputId": "1e3025d9-69e7-43c3-fe04-df2e0389ded0"
      },
      "execution_count": 36,
      "outputs": [
        {
          "output_type": "stream",
          "name": "stdout",
          "text": [
            "22.2\n",
            "Y is bigger\n"
          ]
        }
      ]
    },
    {
      "cell_type": "code",
      "source": [
        "# a = float(input(\"Enter square side = \"))\n",
        "# area = a*a\n",
        "# print('Area is', area)\n",
        "\n",
        "while True:\n",
        "  try:\n",
        "    a = float(input(\"Enter square side = \"))\n",
        "    area = a*a\n",
        "    print('Area is', area)\n",
        "  except:\n",
        "    print('Enter numbers only!!!!')\n",
        "    continue\n",
        "  else:\n",
        "    break\n"
      ],
      "metadata": {
        "colab": {
          "base_uri": "https://localhost:8080/"
        },
        "id": "C8SoLk2Pn5Qe",
        "outputId": "78363f1d-e9e9-4d4d-8f93-9309cd994520"
      },
      "execution_count": 35,
      "outputs": [
        {
          "output_type": "stream",
          "name": "stdout",
          "text": [
            "Enter square side = k\n",
            "Enter numbers only!!!!\n",
            "Enter square side = 5\n",
            "Area is 25.0\n"
          ]
        }
      ]
    },
    {
      "cell_type": "code",
      "source": [
        "name = input('Enter name\\n')\n",
        "print('Hello ', end='')\n",
        "print(name, end='!')\n",
        "\n",
        "print()\n",
        "\n",
        "print('{0}+{0}+{2}={1}'.format(1, 1+1+3, 3))"
      ],
      "metadata": {
        "colab": {
          "base_uri": "https://localhost:8080/"
        },
        "id": "mlnXqoh3n8Bn",
        "outputId": "a0bc4947-f9cd-4d1b-878f-ec27e5d1eccf"
      },
      "execution_count": 34,
      "outputs": [
        {
          "output_type": "stream",
          "name": "stdout",
          "text": [
            "Enter name\n",
            "Djulia\n",
            "Hello Djulia!\n",
            "1+1+3=5\n"
          ]
        }
      ]
    },
    {
      "cell_type": "code",
      "source": [
        "x, y, z = input('Enter number').split()\n",
        "print(int(x))\n",
        "y = float(y)\n",
        "print(y)\n",
        "print(z)\n",
        "\n",
        "x, y, z = map(int, input('Enter number\\n').split())\n",
        "print(x)\n",
        "print(y)\n",
        "print(z)"
      ],
      "metadata": {
        "colab": {
          "base_uri": "https://localhost:8080/"
        },
        "id": "ZM0BBxwmn-aU",
        "outputId": "64ca1d74-db35-4d31-bd47-82dc5ed52710"
      },
      "execution_count": 33,
      "outputs": [
        {
          "output_type": "stream",
          "name": "stdout",
          "text": [
            "Enter number4 5 6\n",
            "4\n",
            "5.0\n",
            "6\n",
            "Enter number\n",
            "4 5 6\n",
            "4\n",
            "5\n",
            "6\n"
          ]
        }
      ]
    },
    {
      "cell_type": "code",
      "source": [
        "# a = 5\n",
        "# b = 10\n",
        "# a, b = b, a\n",
        "# print(a, b)\n",
        "\n",
        "def some_num(number1, number2):\n",
        "  result = number1 + number2\n",
        "  return result\n",
        "\n",
        "a = int(input())\n",
        "b = int(input())\n",
        "print(some_num(a, b))"
      ],
      "metadata": {
        "colab": {
          "base_uri": "https://localhost:8080/"
        },
        "id": "0c1Qf7TToA0_",
        "outputId": "43556e3e-bcd0-4acc-cdb4-e48d1560c3bb"
      },
      "execution_count": 32,
      "outputs": [
        {
          "output_type": "stream",
          "name": "stdout",
          "text": [
            "5\n",
            "4\n",
            "9\n"
          ]
        }
      ]
    },
    {
      "cell_type": "markdown",
      "source": [],
      "metadata": {
        "id": "nck9u9ZRxMRb"
      }
    },
    {
      "cell_type": "markdown",
      "source": [
        "Пайтън - 1 упражнение\n",
        "\n",
        "### Нова секция\n"
      ],
      "metadata": {
        "id": "W3G42l6XxNHo"
      }
    }
  ]
}