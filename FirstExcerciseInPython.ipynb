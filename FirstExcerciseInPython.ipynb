{
  "nbformat": 4,
  "nbformat_minor": 0,
  "metadata": {
    "colab": {
      "provenance": [],
      "toc_visible": true,
      "authorship_tag": "ABX9TyP9IibuaBiYkTF9XSkMoVKV",
      "include_colab_link": true
    },
    "kernelspec": {
      "name": "python3",
      "display_name": "Python 3"
    },
    "language_info": {
      "name": "python"
    }
  },
  "cells": [
    {
      "cell_type": "markdown",
      "metadata": {
        "id": "view-in-github",
        "colab_type": "text"
      },
      "source": [
        "<a href=\"https://colab.research.google.com/github/djuliqlozeva/hello-world/blob/main/FirstExcerciseInPython.ipynb\" target=\"_parent\"><img src=\"https://colab.research.google.com/assets/colab-badge.svg\" alt=\"Open In Colab\"/></a>"
      ]
    },
    {
      "cell_type": "code",
      "execution_count": null,
      "metadata": {
        "id": "CLUGOMcCxJfV"
      },
      "outputs": [],
      "source": [
        "side_a = int(input())\n",
        "side_b = int(input())\n",
        "area = side_a * side_b\n",
        "print(f\"Area of ....{area: .2f} square meters\")"
      ]
    },
    {
      "cell_type": "code",
      "source": [
        "grade = float(input())\n",
        "if(grade >= 5.50):\n",
        "  print(\"Excellent!\")\n",
        "else:\n",
        "  print()"
      ],
      "metadata": {
        "id": "00RFw1x50GZH"
      },
      "execution_count": null,
      "outputs": []
    },
    {
      "cell_type": "code",
      "source": [
        "number1 = float(input())\n",
        "number2 = float(input())\n",
        "\n",
        "if(number1 == number2):\n",
        "  print(number1)\n",
        "else:\n",
        "  print(number2)"
      ],
      "metadata": {
        "id": "uzfBpLcE75G2"
      },
      "execution_count": null,
      "outputs": []
    },
    {
      "cell_type": "code",
      "source": [
        "number = int(input())\n",
        "if(number%2==0):\n",
        "  print(\"even\")\n",
        "else:\n",
        "  print(\"odd\")"
      ],
      "metadata": {
        "colab": {
          "base_uri": "https://localhost:8080/"
        },
        "id": "9HKWxh-e8T3d",
        "outputId": "f21a3c08-2985-42d0-f390-d1fa75381ffd"
      },
      "execution_count": null,
      "outputs": [
        {
          "output_type": "stream",
          "name": "stdout",
          "text": [
            "5\n",
            "odd\n"
          ]
        }
      ]
    },
    {
      "cell_type": "code",
      "source": [
        "figure = input()\n",
        "if(figure == \"circle\"):\n",
        "  r = float(input())\n",
        "  area = math.pi * r ** 2\n",
        "elif(figure==\"square\"):\n",
        "  side = float(input())\n",
        "  area = side ** 2\n",
        "elif(figure == \"rectangle\"):\n",
        "  side_a = float(input())\n",
        "  side_b = float(input())\n",
        "  area = side_a * side_b\n",
        "elif(figure == \"triangle\"):\n",
        "  height = float(input())\n",
        "  side_a = float(input())\n",
        "  area = (height * side_a) / 2\n",
        "else:\n",
        "  print(\"Invalid figure\")\n",
        "\n",
        "print(f\" The rea of {figure} is {area: .3f}\")\n"
      ],
      "metadata": {
        "colab": {
          "base_uri": "https://localhost:8080/"
        },
        "id": "PZNI6wLU9OoR",
        "outputId": "c2ae8bf5-b2ba-471e-9978-fc61e8be1155"
      },
      "execution_count": null,
      "outputs": [
        {
          "output_type": "stream",
          "name": "stdout",
          "text": [
            "square\n",
            "5\n",
            " The rea of square is  25.000\n"
          ]
        }
      ]
    },
    {
      "cell_type": "markdown",
      "source": [],
      "metadata": {
        "id": "nck9u9ZRxMRb"
      }
    },
    {
      "cell_type": "markdown",
      "source": [
        "Пайтън - 1 упражнение\n",
        "\n",
        "### Нова секция\n"
      ],
      "metadata": {
        "id": "W3G42l6XxNHo"
      }
    }
  ]
}